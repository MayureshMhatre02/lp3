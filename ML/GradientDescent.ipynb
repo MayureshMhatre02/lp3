{
  "nbformat": 4,
  "nbformat_minor": 0,
  "metadata": {
    "colab": {
      "provenance": []
    },
    "kernelspec": {
      "name": "python3",
      "display_name": "Python 3"
    },
    "language_info": {
      "name": "python"
    }
  },
  "cells": [
    {
      "cell_type": "code",
      "execution_count": 1,
      "metadata": {
        "id": "lpTxvG0abm8Y"
      },
      "outputs": [],
      "source": [
        "import numpy as np"
      ]
    },
    {
      "cell_type": "code",
      "source": [
        "def gradient_descent(f, df, x0, alpha, num_iters):\n",
        "    x = x0\n",
        "    for _ in range(num_iters):\n",
        "        x -= alpha * df(x)\n",
        "    return x"
      ],
      "metadata": {
        "id": "CVTrf9pmbuA5"
      },
      "execution_count": 2,
      "outputs": []
    },
    {
      "cell_type": "code",
      "source": [
        "def f(x):\n",
        "    return (x + 3)**2"
      ],
      "metadata": {
        "id": "3G6-iE3ubuL1"
      },
      "execution_count": 3,
      "outputs": []
    },
    {
      "cell_type": "code",
      "source": [
        "def df(x):\n",
        "    return 2 * (x + 3)\n",
        "\n",
        "x0 = 2\n",
        "alpha = 0.1\n",
        "num_iters = 100"
      ],
      "metadata": {
        "id": "Y7_rTE9vbuPF"
      },
      "execution_count": 4,
      "outputs": []
    },
    {
      "cell_type": "code",
      "source": [
        "x_final = gradient_descent(f, df, x0, alpha, num_iters)\n",
        "print(\"Local minima:\", x_final)"
      ],
      "metadata": {
        "colab": {
          "base_uri": "https://localhost:8080/"
        },
        "id": "SOuKFfesbuSf",
        "outputId": "f5436955-d9af-4920-896f-61f38fd8d324"
      },
      "execution_count": 5,
      "outputs": [
        {
          "output_type": "stream",
          "name": "stdout",
          "text": [
            "Local minima: -2.999999998981482\n"
          ]
        }
      ]
    }
  ]
}