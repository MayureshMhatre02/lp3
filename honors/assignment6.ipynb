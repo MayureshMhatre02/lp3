{
  "cells": [
    {
      "cell_type": "code",
      "execution_count": null,
      "metadata": {
        "id": "hKlO2m-Az5WR"
      },
      "outputs": [],
      "source": [
        "import numpy as np\n",
        "from sklearn.feature_extraction.text import TfidfVectorizer\n",
        "from sklearn.svm import LinearSVC\n",
        "\n",
        "\n"
      ]
    },
    {
      "cell_type": "code",
      "execution_count": null,
      "metadata": {
        "id": "WUwcSQXl0g2E"
      },
      "outputs": [],
      "source": [
        "class DocumentSentimentClassifier:\n",
        "    def __init__(self, polarity_words):\n",
        "        self.polarity_words = polarity_words\n",
        "        self.vectorizer = TfidfVectorizer(vocabulary=polarity_words)\n",
        "        self.classifier = LinearSVC()\n",
        "\n",
        "    def fit(self, X, y):\n",
        "        X_vec = self.vectorizer.fit_transform(X)\n",
        "        self.classifier.fit(X_vec, y)\n",
        "\n",
        "    def predict(self, X):\n",
        "        X_vec = self.vectorizer.transform(X)\n",
        "        y_pred = self.classifier.predict(X_vec)\n",
        "        return y_pred"
      ]
    },
    {
      "cell_type": "code",
      "execution_count": null,
      "metadata": {
        "id": "cbEl4xt70g53"
      },
      "outputs": [],
      "source": [
        "# Define the polarity words\n",
        "polarity_words = [\"good\", \"bad\", \"happy\", \"sad\", \"love\", \"hate\", \"excellent\", \"terrible\", \"beautiful\", \"ugly\"]\n",
        "\n"
      ]
    },
    {
      "cell_type": "code",
      "execution_count": null,
      "metadata": {
        "id": "Vu3LBNTl0g8y"
      },
      "outputs": [],
      "source": [
        "# Create a document sentiment classifier\n",
        "classifier = DocumentSentimentClassifier(polarity_words)\n",
        "\n"
      ]
    },
    {
      "cell_type": "code",
      "execution_count": null,
      "metadata": {
        "id": "0afpJg8d0g_7"
      },
      "outputs": [],
      "source": [
        "# Train the classifier\n",
        "X_train = [\"This is a good movie.\", \"This is a bad movie.\"]\n",
        "y_train = [\"positive\", \"negative\"]\n",
        "classifier.fit(X_train, y_train)\n",
        "\n"
      ]
    },
    {
      "cell_type": "code",
      "execution_count": null,
      "metadata": {
        "id": "dTzBmanm02Ob"
      },
      "outputs": [],
      "source": [
        "# Make predictions\n",
        "X = [\"This is a terrible movie!\", \"This is a horrible movie.\"]\n",
        "y_pred = classifier.predict(X)\n",
        "\n"
      ]
    },
    {
      "cell_type": "code",
      "execution_count": null,
      "metadata": {
        "id": "2hXbOqFf02Rk",
        "outputId": "51d01079-8f1b-4671-fdbf-62d3f960e489"
      },
      "outputs": [
        {
          "name": "stdout",
          "output_type": "stream",
          "text": [
            "['negative' 'negative']\n"
          ]
        }
      ],
      "source": [
        "# Print the predictions\n",
        "print(y_pred)"
      ]
    },
    {
      "cell_type": "code",
      "execution_count": null,
      "metadata": {
        "id": "TDQsI07k02U8"
      },
      "outputs": [],
      "source": []
    },
    {
      "cell_type": "code",
      "execution_count": null,
      "metadata": {
        "id": "DpgBi61d02nB"
      },
      "outputs": [],
      "source": []
    },
    {
      "cell_type": "code",
      "execution_count": null,
      "metadata": {
        "id": "AKqc3cvB0hCt"
      },
      "outputs": [],
      "source": []
    },
    {
      "cell_type": "code",
      "execution_count": null,
      "metadata": {
        "id": "iuK_oh0X0hFW"
      },
      "outputs": [],
      "source": []
    },
    {
      "cell_type": "code",
      "execution_count": null,
      "metadata": {
        "id": "fPANfqgu1KfY"
      },
      "outputs": [],
      "source": []
    },
    {
      "cell_type": "code",
      "execution_count": null,
      "metadata": {
        "id": "jG7k3DTg1Kis"
      },
      "outputs": [],
      "source": []
    },
    {
      "cell_type": "code",
      "execution_count": null,
      "metadata": {
        "id": "5oeHK-Ge1Kla"
      },
      "outputs": [],
      "source": []
    },
    {
      "cell_type": "code",
      "execution_count": null,
      "metadata": {
        "id": "B_mYuSog1KoO"
      },
      "outputs": [],
      "source": []
    },
    {
      "cell_type": "code",
      "execution_count": null,
      "metadata": {
        "id": "XvOm0yPq1Krd"
      },
      "outputs": [],
      "source": []
    },
    {
      "cell_type": "code",
      "execution_count": null,
      "metadata": {
        "id": "2QzrZmUg1Kuy"
      },
      "outputs": [],
      "source": []
    },
    {
      "cell_type": "code",
      "execution_count": null,
      "metadata": {
        "id": "AU5ics9e1fAA"
      },
      "outputs": [],
      "source": []
    },
    {
      "cell_type": "code",
      "execution_count": null,
      "metadata": {
        "id": "VD7vSNNQ1fDV"
      },
      "outputs": [],
      "source": []
    },
    {
      "cell_type": "code",
      "execution_count": null,
      "metadata": {
        "id": "tbJltvkm1fFN"
      },
      "outputs": [],
      "source": []
    },
    {
      "cell_type": "code",
      "execution_count": null,
      "metadata": {
        "id": "OIYEmCeW1fIZ"
      },
      "outputs": [],
      "source": []
    },
    {
      "cell_type": "code",
      "execution_count": null,
      "metadata": {
        "id": "EqbLyNew0hI1"
      },
      "outputs": [],
      "source": []
    }
  ],
  "metadata": {
    "colab": {
      "provenance": []
    },
    "kernelspec": {
      "display_name": "Python 3 (ipykernel)",
      "language": "python",
      "name": "python3"
    },
    "language_info": {
      "codemirror_mode": {
        "name": "ipython",
        "version": 3
      },
      "file_extension": ".py",
      "mimetype": "text/x-python",
      "name": "python",
      "nbconvert_exporter": "python",
      "pygments_lexer": "ipython3",
      "version": "3.10.9"
    }
  },
  "nbformat": 4,
  "nbformat_minor": 0
}