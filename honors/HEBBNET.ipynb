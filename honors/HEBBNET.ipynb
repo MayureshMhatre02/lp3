{
  "nbformat": 4,
  "nbformat_minor": 0,
  "metadata": {
    "colab": {
      "provenance": []
    },
    "kernelspec": {
      "name": "python3",
      "display_name": "Python 3"
    },
    "language_info": {
      "name": "python"
    }
  },
  "cells": [
    {
      "cell_type": "code",
      "execution_count": null,
      "metadata": {
        "colab": {
          "base_uri": "https://localhost:8080/"
        },
        "id": "XZ9GCVLXhI-r",
        "outputId": "3a6b7b6c-7407-4e87-b13d-6c8759a2262e"
      },
      "outputs": [
        {
          "output_type": "stream",
          "name": "stdout",
          "text": [
            "AND gate weights: [1. 1.]\n"
          ]
        }
      ],
      "source": [
        "import numpy as np\n",
        "\n",
        "# Define the activation function (Hebbian learning rule)\n",
        "def hebbian_learning(inputs, weights):\n",
        "    return np.dot(inputs, weights)\n",
        "\n",
        "# AND gate\n",
        "and_data = np.array([[0, 0], [0, 1], [1, 0], [1, 1]])\n",
        "and_labels = np.array([0, 0, 0, 1])\n",
        "\n",
        "and_weights = np.zeros(2)  # Initialize weights to zero\n",
        "\n",
        "for i in range(len(and_data)):\n",
        "    prediction = hebbian_learning(and_data[i], and_weights)\n",
        "    and_weights += and_data[i] * and_labels[i]\n",
        "\n",
        "print(\"AND gate weights:\", and_weights)\n",
        "\n"
      ]
    },
    {
      "cell_type": "code",
      "source": [
        "# OR gate\n",
        "or_data = np.array([[0, 0], [0, 1], [1, 0], [1, 1]])\n",
        "or_labels = np.array([0, 1, 1, 1])\n",
        "\n",
        "or_weights = np.zeros(2)  # Initialize weights to zero\n",
        "\n",
        "for i in range(len(or_data)):\n",
        "    prediction = hebbian_learning(or_data[i], or_weights)\n",
        "    or_weights += or_data[i] * or_labels[i]\n",
        "\n",
        "print(\"OR gate weights:\", or_weights)\n",
        "\n"
      ],
      "metadata": {
        "colab": {
          "base_uri": "https://localhost:8080/"
        },
        "id": "aCfvw_OkhYBu",
        "outputId": "73869f4c-7156-4cd5-a364-12e3eba99720"
      },
      "execution_count": null,
      "outputs": [
        {
          "output_type": "stream",
          "name": "stdout",
          "text": [
            "OR gate weights: [2. 2.]\n"
          ]
        }
      ]
    },
    {
      "cell_type": "code",
      "source": [
        "# NOT gate\n",
        "not_data = np.array([[0], [1]])\n",
        "not_labels = np.array([1, 0])\n",
        "\n",
        "not_weight = np.zeros(1)  # Initialize weight to zero\n",
        "\n",
        "for i in range(len(not_data)):\n",
        "    prediction = hebbian_learning(not_data[i], not_weight)\n",
        "    not_weight += not_data[i] * not_labels[i]\n",
        "\n",
        "print(\"NOT gate weight:\", not_weight)\n",
        "\n",
        "\n"
      ],
      "metadata": {
        "colab": {
          "base_uri": "https://localhost:8080/"
        },
        "id": "Iolq7-XIhYEt",
        "outputId": "03771c55-a1f1-408c-d2d7-dfc94ab4bc23"
      },
      "execution_count": null,
      "outputs": [
        {
          "output_type": "stream",
          "name": "stdout",
          "text": [
            "NOT gate weight: [0.]\n"
          ]
        }
      ]
    },
    {
      "cell_type": "code",
      "source": [
        "# Test the gates\n",
        "def test_gate(inputs, weights):\n",
        "    result = hebbian_learning(inputs, weights)\n",
        "    return 1 if result >= 0 else 0\n",
        "\n",
        "# Testing AND gate\n",
        "print(\"Testing AND gate:\")\n",
        "print(\"0 AND 0 =\", test_gate([0, 0], and_weights))\n",
        "print(\"0 AND 1 =\", test_gate([0, 1], and_weights))\n",
        "print(\"1 AND 0 =\", test_gate([1, 0], and_weights))\n",
        "print(\"1 AND 1 =\", test_gate([1, 1], and_weights))\n",
        "\n",
        "# Testing OR gate\n",
        "print(\"\\nTesting OR gate:\")\n",
        "print(\"0 OR 0 =\", test_gate([0, 0], or_weights))\n",
        "print(\"0 OR 1 =\", test_gate([0, 1], or_weights))\n",
        "print(\"1 OR 0 =\", test_gate([1, 0], or_weights))\n",
        "print(\"1 OR 1 =\", test_gate([1, 1], or_weights))\n",
        "\n",
        "# Testing NOT gate\n",
        "print(\"\\nTesting NOT gate:\")\n",
        "print(\"NOT 0 =\", test_gate([0], not_weight))\n",
        "print(\"NOT 1 =\", test_gate([1], not_weight))"
      ],
      "metadata": {
        "colab": {
          "base_uri": "https://localhost:8080/"
        },
        "id": "FB0FVZ-jhYHy",
        "outputId": "17969d2e-0414-43f4-f23c-a3390d34d973"
      },
      "execution_count": null,
      "outputs": [
        {
          "output_type": "stream",
          "name": "stdout",
          "text": [
            "Testing AND gate:\n",
            "0 AND 0 = 1\n",
            "0 AND 1 = 1\n",
            "1 AND 0 = 1\n",
            "1 AND 1 = 1\n",
            "\n",
            "Testing OR gate:\n",
            "0 OR 0 = 1\n",
            "0 OR 1 = 1\n",
            "1 OR 0 = 1\n",
            "1 OR 1 = 1\n",
            "\n",
            "Testing NOT gate:\n",
            "NOT 0 = 1\n",
            "NOT 1 = 1\n"
          ]
        }
      ]
    },
    {
      "cell_type": "code",
      "source": [],
      "metadata": {
        "id": "7oJc6porhYKb"
      },
      "execution_count": null,
      "outputs": []
    },
    {
      "cell_type": "code",
      "source": [],
      "metadata": {
        "id": "j4y1sHEFhYNL"
      },
      "execution_count": null,
      "outputs": []
    },
    {
      "cell_type": "code",
      "source": [],
      "metadata": {
        "id": "TS0W3RRNhYPt"
      },
      "execution_count": null,
      "outputs": []
    },
    {
      "cell_type": "code",
      "source": [],
      "metadata": {
        "id": "aRKh1zZYhYSu"
      },
      "execution_count": null,
      "outputs": []
    },
    {
      "cell_type": "code",
      "source": [],
      "metadata": {
        "id": "ikFbyyQ-hYVn"
      },
      "execution_count": null,
      "outputs": []
    }
  ]
}